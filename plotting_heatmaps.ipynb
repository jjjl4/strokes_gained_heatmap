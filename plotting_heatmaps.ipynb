{
 "cells": [
  {
   "cell_type": "code",
   "execution_count": null,
   "id": "cfde0507",
   "metadata": {},
   "outputs": [],
   "source": [
    "import plotting_heatmaps\n",
    "all_gdf = plotting_heatmaps.get_get_gdf()\n",
    "courses = all_gdf['course_name_raw'].unique()\n",
    "\n",
    "for course in courses:\n",
    "    print(f\"Processing course: {course}\")\n",
    "    course_gdf = plotting_heatmaps.preprocess_gdf(all_gdf, course)\n",
    "\n",
    "    # Full course layouts\n",
    "    print(\"Plotting full course layout\")\n",
    "    plotting_heatmaps.plot_full_course(\n",
    "        course=course, plot_sg=False, gdf=course_gdf)\n",
    "    print(\"Plotting full course layout stokes gained\")\n",
    "    plotting_heatmaps.plot_full_course(\n",
    "        course=course, plot_sg=True, sg_step=0.1, res=300, gdf=course_gdf)\n",
    "\n",
    "    # Course subplots\n",
    "    print(\"Plotting course subplots\")\n",
    "    plotting_heatmaps.plot_course_subplots(\n",
    "        course=course, plot_sg=False, gdf=course_gdf)\n",
    "    plotting_heatmaps.plot_course_subplots(\n",
    "        course=course, plot_sg=True, sg_step=0.1, res=300, gdf=course_gdf)\n",
    "\n",
    "    # Individual holes\n",
    "    holes = sorted(course_gdf['hole_num'].unique(), key=int)\n",
    "    for hole in holes:\n",
    "        print(f\"  Plotting hole {hole}\")\n",
    "        plotting_heatmaps.plot_single_hole(\n",
    "            hole, course=course, plot_sg=False, gdf=course_gdf, show=False)\n",
    "        plotting_heatmaps.plot_single_hole(\n",
    "            hole, course=course, plot_sg=True, sg_step=0.1, res=300, gdf=course_gdf, show=False)\n"
   ]
  },
  {
   "cell_type": "code",
   "execution_count": 62,
   "id": "fd708ea6",
   "metadata": {},
   "outputs": [],
   "source": [
    "plot_full_course(course='kiawah_island_ocean_course', plot_sg=True, sg_step=0.1, res=300)"
   ]
  },
  {
   "cell_type": "code",
   "execution_count": 59,
   "id": "460813ce",
   "metadata": {},
   "outputs": [],
   "source": [
    "plot_course_subplots(course='kiawah_island_ocean_course', plot_sg=True, sg_step=0.1, res=300)"
   ]
  },
  {
   "cell_type": "code",
   "execution_count": 65,
   "id": "a6312394",
   "metadata": {},
   "outputs": [],
   "source": [
    "plot_single_hole(hole=1, course='kiawah_island_ocean_course', plot_sg=True, sg_step=0.3, res=300, show=False)"
   ]
  },
  {
   "cell_type": "code",
   "execution_count": 1,
   "id": "13d17f3e",
   "metadata": {},
   "outputs": [],
   "source": [
    "# import plotting_heatmaps\n",
    "\n",
    "\n",
    "# all_gdf = plotting_heatmaps.get_get_gdf()\n",
    "# courses = all_gdf['course_name_raw'].unique()\n",
    "\n",
    "# for course in courses:\n",
    "#     print(f\"Processing course: {course}\")\n",
    "#     course_gdf = plotting_heatmaps.preprocess_gdf(all_gdf, course)\n",
    "\n",
    "#     plotting_heatmaps.plot_full_course(\n",
    "#         course=course, plot_sg=False, gdf=course_gdf)\n",
    "#     plotting_heatmaps.plot_full_course(\n",
    "#         course=course, plot_sg=True, sg_step=0.3, res=300, gdf=course_gdf)\n",
    "\n",
    "#     plotting_heatmaps.plot_course_subplots(\n",
    "#         course=course, plot_sg=False, gdf=course_gdf)\n",
    "#     plotting_heatmaps.plot_course_subplots(\n",
    "#         course=course, plot_sg=True, sg_step=0.3, res=300, gdf=course_gdf)\n",
    "\n",
    "#     holes = sorted(course_gdf['hole_num'].unique(), key=int)\n",
    "#     for hole in holes:\n",
    "#         print(f\"  Plotting hole {hole}\")\n",
    "#         plotting_heatmaps.plot_single_hole(\n",
    "#             hole, course=course, plot_sg=False, gdf=course_gdf)\n",
    "#         plotting_heatmaps.plot_single_hole(\n",
    "#             hole, course=course, plot_sg=True, sg_step=0.3, res=300, gdf=course_gdf)\n"
   ]
  },
  {
   "cell_type": "code",
   "execution_count": null,
   "metadata": {},
   "outputs": [],
   "source": []
  },
  {
   "cell_type": "code",
   "execution_count": null,
   "id": "7e742db3",
   "metadata": {},
   "outputs": [],
   "source": []
  }
 ],
 "metadata": {
  "kernelspec": {
   "display_name": "Python 3",
   "language": "python",
   "name": "python3"
  },
  "language_info": {
   "codemirror_mode": {
    "name": "ipython",
    "version": 3
   },
   "file_extension": ".py",
   "mimetype": "text/x-python",
   "name": "python",
   "nbconvert_exporter": "python",
   "pygments_lexer": "ipython3",
   "version": "3.11.12"
  }
 },
 "nbformat": 4,
 "nbformat_minor": 5
}
